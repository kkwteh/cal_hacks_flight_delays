{
 "cells": [
  {
   "cell_type": "code",
   "execution_count": 1,
   "metadata": {
    "collapsed": true
   },
   "outputs": [],
   "source": [
    "import pandas as pd"
   ]
  },
  {
   "cell_type": "code",
   "execution_count": 2,
   "metadata": {
    "collapsed": false
   },
   "outputs": [
    {
     "name": "stderr",
     "output_type": "stream",
     "text": [
      "/Users/kevin/anaconda/envs/calhacks/lib/python3.5/site-packages/IPython/core/interactiveshell.py:2717: DtypeWarning: Columns (77,84) have mixed types. Specify dtype option on import or set low_memory=False.\n",
      "  interactivity=interactivity, compiler=compiler, result=result)\n"
     ]
    }
   ],
   "source": [
    "df = pd.read_csv('unzipped_data/On_Time_On_Time_Performance_2016_8.csv')"
   ]
  },
  {
   "cell_type": "code",
   "execution_count": 5,
   "metadata": {
    "collapsed": false
   },
   "outputs": [
    {
     "data": {
      "text/plain": [
       "['Year',\n",
       " 'Quarter',\n",
       " 'Month',\n",
       " 'DayofMonth',\n",
       " 'DayOfWeek',\n",
       " 'FlightDate',\n",
       " 'UniqueCarrier',\n",
       " 'AirlineID',\n",
       " 'Carrier',\n",
       " 'TailNum',\n",
       " 'FlightNum',\n",
       " 'OriginAirportID',\n",
       " 'OriginAirportSeqID',\n",
       " 'OriginCityMarketID',\n",
       " 'Origin',\n",
       " 'OriginCityName',\n",
       " 'OriginState',\n",
       " 'OriginStateFips',\n",
       " 'OriginStateName',\n",
       " 'OriginWac',\n",
       " 'DestAirportID',\n",
       " 'DestAirportSeqID',\n",
       " 'DestCityMarketID',\n",
       " 'Dest',\n",
       " 'DestCityName',\n",
       " 'DestState',\n",
       " 'DestStateFips',\n",
       " 'DestStateName',\n",
       " 'DestWac',\n",
       " 'CRSDepTime',\n",
       " 'DepTime',\n",
       " 'DepDelay',\n",
       " 'DepDelayMinutes',\n",
       " 'DepDel15',\n",
       " 'DepartureDelayGroups',\n",
       " 'DepTimeBlk',\n",
       " 'TaxiOut',\n",
       " 'WheelsOff',\n",
       " 'WheelsOn',\n",
       " 'TaxiIn',\n",
       " 'CRSArrTime',\n",
       " 'ArrTime',\n",
       " 'ArrDelay',\n",
       " 'ArrDelayMinutes',\n",
       " 'ArrDel15',\n",
       " 'ArrivalDelayGroups',\n",
       " 'ArrTimeBlk',\n",
       " 'Cancelled',\n",
       " 'CancellationCode',\n",
       " 'Diverted',\n",
       " 'CRSElapsedTime',\n",
       " 'ActualElapsedTime',\n",
       " 'AirTime',\n",
       " 'Flights',\n",
       " 'Distance',\n",
       " 'DistanceGroup',\n",
       " 'CarrierDelay',\n",
       " 'WeatherDelay',\n",
       " 'NASDelay',\n",
       " 'SecurityDelay',\n",
       " 'LateAircraftDelay',\n",
       " 'FirstDepTime',\n",
       " 'TotalAddGTime',\n",
       " 'LongestAddGTime',\n",
       " 'DivAirportLandings',\n",
       " 'DivReachedDest',\n",
       " 'DivActualElapsedTime',\n",
       " 'DivArrDelay',\n",
       " 'DivDistance',\n",
       " 'Div1Airport',\n",
       " 'Div1AirportID',\n",
       " 'Div1AirportSeqID',\n",
       " 'Div1WheelsOn',\n",
       " 'Div1TotalGTime',\n",
       " 'Div1LongestGTime',\n",
       " 'Div1WheelsOff',\n",
       " 'Div1TailNum',\n",
       " 'Div2Airport',\n",
       " 'Div2AirportID',\n",
       " 'Div2AirportSeqID',\n",
       " 'Div2WheelsOn',\n",
       " 'Div2TotalGTime',\n",
       " 'Div2LongestGTime',\n",
       " 'Div2WheelsOff',\n",
       " 'Div2TailNum',\n",
       " 'Div3Airport',\n",
       " 'Div3AirportID',\n",
       " 'Div3AirportSeqID',\n",
       " 'Div3WheelsOn',\n",
       " 'Div3TotalGTime',\n",
       " 'Div3LongestGTime',\n",
       " 'Div3WheelsOff',\n",
       " 'Div3TailNum',\n",
       " 'Div4Airport',\n",
       " 'Div4AirportID',\n",
       " 'Div4AirportSeqID',\n",
       " 'Div4WheelsOn',\n",
       " 'Div4TotalGTime',\n",
       " 'Div4LongestGTime',\n",
       " 'Div4WheelsOff',\n",
       " 'Div4TailNum',\n",
       " 'Div5Airport',\n",
       " 'Div5AirportID',\n",
       " 'Div5AirportSeqID',\n",
       " 'Div5WheelsOn',\n",
       " 'Div5TotalGTime',\n",
       " 'Div5LongestGTime',\n",
       " 'Div5WheelsOff',\n",
       " 'Div5TailNum',\n",
       " 'Unnamed: 109']"
      ]
     },
     "execution_count": 5,
     "metadata": {},
     "output_type": "execute_result"
    }
   ],
   "source": [
    "list(df.columns)"
   ]
  },
  {
   "cell_type": "markdown",
   "metadata": {},
   "source": [
    "# What questions would you have about this data?"
   ]
  },
  {
   "cell_type": "code",
   "execution_count": null,
   "metadata": {
    "collapsed": true
   },
   "outputs": [],
   "source": [
    "\n",
    "\n",
    "\n",
    "\n",
    "\n",
    "\n",
    "\n",
    "\n",
    "\n",
    "\n",
    "\n",
    "\n",
    "\n",
    "\n",
    "\n",
    "\n",
    "\n",
    "\n",
    "\n",
    "\n",
    "\n",
    "\n",
    "\n",
    "\n",
    "\n",
    "\n",
    "\n",
    "\n",
    "\n",
    "\n",
    "\n",
    "\n",
    "\n",
    "\n",
    "\n",
    "\n",
    "\n",
    "\n"
   ]
  },
  {
   "cell_type": "code",
   "execution_count": 8,
   "metadata": {
    "collapsed": false
   },
   "outputs": [
    {
     "data": {
      "text/plain": [
       "(498347, 110)"
      ]
     },
     "execution_count": 8,
     "metadata": {},
     "output_type": "execute_result"
    }
   ],
   "source": [
    "df.shape"
   ]
  },
  {
   "cell_type": "code",
   "execution_count": 6,
   "metadata": {
    "collapsed": false
   },
   "outputs": [
    {
     "data": {
      "text/plain": [
       "305"
      ]
     },
     "execution_count": 6,
     "metadata": {},
     "output_type": "execute_result"
    }
   ],
   "source": [
    "len(set(df.Origin))"
   ]
  },
  {
   "cell_type": "code",
   "execution_count": 19,
   "metadata": {
    "collapsed": false
   },
   "outputs": [
    {
     "data": {
      "text/plain": [
       "'2016-08-01'"
      ]
     },
     "execution_count": 19,
     "metadata": {},
     "output_type": "execute_result"
    }
   ],
   "source": [
    "df.FlightDate.min()"
   ]
  },
  {
   "cell_type": "code",
   "execution_count": 20,
   "metadata": {
    "collapsed": false
   },
   "outputs": [
    {
     "data": {
      "text/plain": [
       "'2016-08-31'"
      ]
     },
     "execution_count": 20,
     "metadata": {},
     "output_type": "execute_result"
    }
   ],
   "source": [
    "df.FlightDate.max()"
   ]
  },
  {
   "cell_type": "code",
   "execution_count": 21,
   "metadata": {
    "collapsed": false
   },
   "outputs": [
    {
     "data": {
      "text/plain": [
       "count    491761.000000\n",
       "mean       1335.955763\n",
       "std         508.833662\n",
       "min           1.000000\n",
       "25%         916.000000\n",
       "50%        1329.000000\n",
       "75%        1748.000000\n",
       "max        2400.000000\n",
       "Name: DepTime, dtype: float64"
      ]
     },
     "execution_count": 21,
     "metadata": {},
     "output_type": "execute_result"
    }
   ],
   "source": [
    "df.DepTime.count()\n",
    "df.DepTime.dropna().describe()"
   ]
  },
  {
   "cell_type": "code",
   "execution_count": 11,
   "metadata": {
    "collapsed": true
   },
   "outputs": [],
   "source": [
    "needed_columns = ['Year',\n",
    " 'Quarter',\n",
    " 'Month',\n",
    " 'DayofMonth',\n",
    " 'DayOfWeek',\n",
    " 'FlightDate',\n",
    " 'UniqueCarrier',\n",
    " 'Origin',\n",
    " 'OriginCityName',\n",
    " 'Dest',\n",
    " 'DestCityName',\n",
    " 'CRSDepTime',\n",
    " 'DepTime',\n",
    " 'DepDelay',\n",
    " 'DepDelayMinutes',\n",
    " 'DepDel15',\n",
    " 'DepartureDelayGroups',\n",
    " 'DepTimeBlk',\n",
    " 'CRSArrTime',\n",
    " 'ArrTime',\n",
    " 'ArrDelay',\n",
    " 'ArrDelayMinutes',\n",
    " 'ArrDel15',\n",
    " 'ArrTimeBlk',\n",
    " 'Cancelled',\n",
    " 'Diverted',\n",
    " 'CRSElapsedTime',\n",
    " 'ActualElapsedTime',\n",
    " 'Distance',\n",
    " 'DistanceGroup',\n",
    "]"
   ]
  },
  {
   "cell_type": "code",
   "execution_count": 10,
   "metadata": {
    "collapsed": false
   },
   "outputs": [
    {
     "data": {
      "text/html": [
       "<div>\n",
       "<table border=\"1\" class=\"dataframe\">\n",
       "  <thead>\n",
       "    <tr style=\"text-align: right;\">\n",
       "      <th></th>\n",
       "      <th>DepDel15</th>\n",
       "    </tr>\n",
       "    <tr>\n",
       "      <th>DayOfWeek</th>\n",
       "      <th></th>\n",
       "    </tr>\n",
       "  </thead>\n",
       "  <tbody>\n",
       "    <tr>\n",
       "      <th>1</th>\n",
       "      <td>0.236520</td>\n",
       "    </tr>\n",
       "    <tr>\n",
       "      <th>2</th>\n",
       "      <td>0.192396</td>\n",
       "    </tr>\n",
       "    <tr>\n",
       "      <th>3</th>\n",
       "      <td>0.179082</td>\n",
       "    </tr>\n",
       "    <tr>\n",
       "      <th>4</th>\n",
       "      <td>0.213093</td>\n",
       "    </tr>\n",
       "    <tr>\n",
       "      <th>5</th>\n",
       "      <td>0.215063</td>\n",
       "    </tr>\n",
       "    <tr>\n",
       "      <th>6</th>\n",
       "      <td>0.206667</td>\n",
       "    </tr>\n",
       "    <tr>\n",
       "      <th>7</th>\n",
       "      <td>0.202173</td>\n",
       "    </tr>\n",
       "  </tbody>\n",
       "</table>\n",
       "</div>"
      ],
      "text/plain": [
       "           DepDel15\n",
       "DayOfWeek          \n",
       "1          0.236520\n",
       "2          0.192396\n",
       "3          0.179082\n",
       "4          0.213093\n",
       "5          0.215063\n",
       "6          0.206667\n",
       "7          0.202173"
      ]
     },
     "execution_count": 10,
     "metadata": {},
     "output_type": "execute_result"
    }
   ],
   "source": [
    "# Percentage of flights. 1=Monday, 2=Tuesday, etc.\n",
    "df[['DayOfWeek', 'DepDel15']].groupby('DayOfWeek').mean()"
   ]
  },
  {
   "cell_type": "code",
   "execution_count": 195,
   "metadata": {
    "collapsed": false
   },
   "outputs": [
    {
     "data": {
      "text/html": [
       "<div>\n",
       "<table border=\"1\" class=\"dataframe\">\n",
       "  <thead>\n",
       "    <tr style=\"text-align: right;\">\n",
       "      <th></th>\n",
       "      <th>DepDelayMinutes</th>\n",
       "    </tr>\n",
       "    <tr>\n",
       "      <th>UniqueCarrier</th>\n",
       "      <th></th>\n",
       "    </tr>\n",
       "  </thead>\n",
       "  <tbody>\n",
       "    <tr>\n",
       "      <th>AA</th>\n",
       "      <td>78856</td>\n",
       "    </tr>\n",
       "    <tr>\n",
       "      <th>AS</th>\n",
       "      <td>16435</td>\n",
       "    </tr>\n",
       "    <tr>\n",
       "      <th>B6</th>\n",
       "      <td>24420</td>\n",
       "    </tr>\n",
       "    <tr>\n",
       "      <th>DL</th>\n",
       "      <td>82756</td>\n",
       "    </tr>\n",
       "    <tr>\n",
       "      <th>EV</th>\n",
       "      <td>41705</td>\n",
       "    </tr>\n",
       "    <tr>\n",
       "      <th>F9</th>\n",
       "      <td>8900</td>\n",
       "    </tr>\n",
       "    <tr>\n",
       "      <th>HA</th>\n",
       "      <td>7035</td>\n",
       "    </tr>\n",
       "    <tr>\n",
       "      <th>NK</th>\n",
       "      <td>11814</td>\n",
       "    </tr>\n",
       "    <tr>\n",
       "      <th>OO</th>\n",
       "      <td>54230</td>\n",
       "    </tr>\n",
       "    <tr>\n",
       "      <th>UA</th>\n",
       "      <td>49471</td>\n",
       "    </tr>\n",
       "    <tr>\n",
       "      <th>VX</th>\n",
       "      <td>6055</td>\n",
       "    </tr>\n",
       "    <tr>\n",
       "      <th>WN</th>\n",
       "      <td>110084</td>\n",
       "    </tr>\n",
       "  </tbody>\n",
       "</table>\n",
       "</div>"
      ],
      "text/plain": [
       "               DepDelayMinutes\n",
       "UniqueCarrier                 \n",
       "AA                       78856\n",
       "AS                       16435\n",
       "B6                       24420\n",
       "DL                       82756\n",
       "EV                       41705\n",
       "F9                        8900\n",
       "HA                        7035\n",
       "NK                       11814\n",
       "OO                       54230\n",
       "UA                       49471\n",
       "VX                        6055\n",
       "WN                      110084"
      ]
     },
     "execution_count": 195,
     "metadata": {},
     "output_type": "execute_result"
    }
   ],
   "source": [
    "df[['UniqueCarrier', 'DepDelayMinutes']].groupby('UniqueCarrier').count()"
   ]
  },
  {
   "cell_type": "code",
   "execution_count": 11,
   "metadata": {
    "collapsed": false
   },
   "outputs": [
    {
     "data": {
      "text/html": [
       "<div>\n",
       "<table border=\"1\" class=\"dataframe\">\n",
       "  <thead>\n",
       "    <tr style=\"text-align: right;\">\n",
       "      <th></th>\n",
       "      <th>DepDelayMinutes</th>\n",
       "    </tr>\n",
       "    <tr>\n",
       "      <th>UniqueCarrier</th>\n",
       "      <th></th>\n",
       "    </tr>\n",
       "  </thead>\n",
       "  <tbody>\n",
       "    <tr>\n",
       "      <th>AA</th>\n",
       "      <td>17.602427</td>\n",
       "    </tr>\n",
       "    <tr>\n",
       "      <th>AS</th>\n",
       "      <td>5.666322</td>\n",
       "    </tr>\n",
       "    <tr>\n",
       "      <th>B6</th>\n",
       "      <td>19.117322</td>\n",
       "    </tr>\n",
       "    <tr>\n",
       "      <th>DL</th>\n",
       "      <td>18.993922</td>\n",
       "    </tr>\n",
       "    <tr>\n",
       "      <th>EV</th>\n",
       "      <td>18.683779</td>\n",
       "    </tr>\n",
       "    <tr>\n",
       "      <th>F9</th>\n",
       "      <td>21.333820</td>\n",
       "    </tr>\n",
       "    <tr>\n",
       "      <th>HA</th>\n",
       "      <td>3.270505</td>\n",
       "    </tr>\n",
       "    <tr>\n",
       "      <th>NK</th>\n",
       "      <td>21.076350</td>\n",
       "    </tr>\n",
       "    <tr>\n",
       "      <th>OO</th>\n",
       "      <td>12.512152</td>\n",
       "    </tr>\n",
       "    <tr>\n",
       "      <th>UA</th>\n",
       "      <td>16.543146</td>\n",
       "    </tr>\n",
       "    <tr>\n",
       "      <th>VX</th>\n",
       "      <td>13.026755</td>\n",
       "    </tr>\n",
       "    <tr>\n",
       "      <th>WN</th>\n",
       "      <td>10.888540</td>\n",
       "    </tr>\n",
       "  </tbody>\n",
       "</table>\n",
       "</div>"
      ],
      "text/plain": [
       "               DepDelayMinutes\n",
       "UniqueCarrier                 \n",
       "AA                   17.602427\n",
       "AS                    5.666322\n",
       "B6                   19.117322\n",
       "DL                   18.993922\n",
       "EV                   18.683779\n",
       "F9                   21.333820\n",
       "HA                    3.270505\n",
       "NK                   21.076350\n",
       "OO                   12.512152\n",
       "UA                   16.543146\n",
       "VX                   13.026755\n",
       "WN                   10.888540"
      ]
     },
     "execution_count": 11,
     "metadata": {},
     "output_type": "execute_result"
    }
   ],
   "source": [
    "# Mean minutes of delay by carrier\n",
    "df[['UniqueCarrier', 'DepDelayMinutes']].groupby('UniqueCarrier').mean()"
   ]
  },
  {
   "cell_type": "code",
   "execution_count": null,
   "metadata": {
    "collapsed": true
   },
   "outputs": [],
   "source": [
    "CARRIERS = {\n",
    "    'AA': 'American',\n",
    "    'AS': 'Alaska',\n",
    "    'B6': 'Jet Blue',\n",
    "    'DL': 'Delta',\n",
    "    'EV': 'Express Jet',\n",
    "    'F9': 'Frontier',\n",
    "    'HA': 'Hawaiian',\n",
    "    'NK': 'Spirit',\n",
    "    'OO': 'SkyWest',\n",
    "    'UA': 'United',\n",
    "    'VX': 'Virgin',\n",
    "    'WN': 'Southwest'\n",
    "}"
   ]
  },
  {
   "cell_type": "code",
   "execution_count": 91,
   "metadata": {
    "collapsed": false
   },
   "outputs": [
    {
     "data": {
      "text/html": [
       "<div>\n",
       "<table border=\"1\" class=\"dataframe\">\n",
       "  <thead>\n",
       "    <tr style=\"text-align: right;\">\n",
       "      <th></th>\n",
       "      <th>DepDel15</th>\n",
       "    </tr>\n",
       "    <tr>\n",
       "      <th>Origin</th>\n",
       "      <th></th>\n",
       "    </tr>\n",
       "  </thead>\n",
       "  <tbody>\n",
       "    <tr>\n",
       "      <th>ABE</th>\n",
       "      <td>0.239316</td>\n",
       "    </tr>\n",
       "    <tr>\n",
       "      <th>ABI</th>\n",
       "      <td>0.222222</td>\n",
       "    </tr>\n",
       "    <tr>\n",
       "      <th>ABQ</th>\n",
       "      <td>0.166667</td>\n",
       "    </tr>\n",
       "    <tr>\n",
       "      <th>ABR</th>\n",
       "      <td>0.016129</td>\n",
       "    </tr>\n",
       "    <tr>\n",
       "      <th>ABY</th>\n",
       "      <td>0.149425</td>\n",
       "    </tr>\n",
       "    <tr>\n",
       "      <th>ACK</th>\n",
       "      <td>0.197279</td>\n",
       "    </tr>\n",
       "    <tr>\n",
       "      <th>ACT</th>\n",
       "      <td>0.247706</td>\n",
       "    </tr>\n",
       "    <tr>\n",
       "      <th>ACV</th>\n",
       "      <td>0.345133</td>\n",
       "    </tr>\n",
       "    <tr>\n",
       "      <th>ACY</th>\n",
       "      <td>0.278107</td>\n",
       "    </tr>\n",
       "    <tr>\n",
       "      <th>ADK</th>\n",
       "      <td>0.250000</td>\n",
       "    </tr>\n",
       "    <tr>\n",
       "      <th>ADQ</th>\n",
       "      <td>0.068966</td>\n",
       "    </tr>\n",
       "    <tr>\n",
       "      <th>AEX</th>\n",
       "      <td>0.240157</td>\n",
       "    </tr>\n",
       "    <tr>\n",
       "      <th>AGS</th>\n",
       "      <td>0.229075</td>\n",
       "    </tr>\n",
       "    <tr>\n",
       "      <th>AKN</th>\n",
       "      <td>0.166667</td>\n",
       "    </tr>\n",
       "    <tr>\n",
       "      <th>ALB</th>\n",
       "      <td>0.167553</td>\n",
       "    </tr>\n",
       "    <tr>\n",
       "      <th>AMA</th>\n",
       "      <td>0.104869</td>\n",
       "    </tr>\n",
       "    <tr>\n",
       "      <th>ANC</th>\n",
       "      <td>0.107018</td>\n",
       "    </tr>\n",
       "    <tr>\n",
       "      <th>APN</th>\n",
       "      <td>0.172414</td>\n",
       "    </tr>\n",
       "    <tr>\n",
       "      <th>ASE</th>\n",
       "      <td>0.130000</td>\n",
       "    </tr>\n",
       "    <tr>\n",
       "      <th>ATL</th>\n",
       "      <td>0.214023</td>\n",
       "    </tr>\n",
       "    <tr>\n",
       "      <th>ATW</th>\n",
       "      <td>0.084337</td>\n",
       "    </tr>\n",
       "    <tr>\n",
       "      <th>AUS</th>\n",
       "      <td>0.187546</td>\n",
       "    </tr>\n",
       "    <tr>\n",
       "      <th>AVL</th>\n",
       "      <td>0.246914</td>\n",
       "    </tr>\n",
       "    <tr>\n",
       "      <th>AVP</th>\n",
       "      <td>0.172619</td>\n",
       "    </tr>\n",
       "    <tr>\n",
       "      <th>AZO</th>\n",
       "      <td>0.113772</td>\n",
       "    </tr>\n",
       "    <tr>\n",
       "      <th>BDL</th>\n",
       "      <td>0.157674</td>\n",
       "    </tr>\n",
       "    <tr>\n",
       "      <th>BET</th>\n",
       "      <td>0.024096</td>\n",
       "    </tr>\n",
       "    <tr>\n",
       "      <th>BFL</th>\n",
       "      <td>0.115385</td>\n",
       "    </tr>\n",
       "    <tr>\n",
       "      <th>BGM</th>\n",
       "      <td>0.148148</td>\n",
       "    </tr>\n",
       "    <tr>\n",
       "      <th>BGR</th>\n",
       "      <td>0.229508</td>\n",
       "    </tr>\n",
       "    <tr>\n",
       "      <th>...</th>\n",
       "      <td>...</td>\n",
       "    </tr>\n",
       "    <tr>\n",
       "      <th>SMF</th>\n",
       "      <td>0.169965</td>\n",
       "    </tr>\n",
       "    <tr>\n",
       "      <th>SMX</th>\n",
       "      <td>0.354839</td>\n",
       "    </tr>\n",
       "    <tr>\n",
       "      <th>SNA</th>\n",
       "      <td>0.170179</td>\n",
       "    </tr>\n",
       "    <tr>\n",
       "      <th>SPI</th>\n",
       "      <td>0.238095</td>\n",
       "    </tr>\n",
       "    <tr>\n",
       "      <th>SPS</th>\n",
       "      <td>0.176471</td>\n",
       "    </tr>\n",
       "    <tr>\n",
       "      <th>SRQ</th>\n",
       "      <td>0.236453</td>\n",
       "    </tr>\n",
       "    <tr>\n",
       "      <th>STL</th>\n",
       "      <td>0.200622</td>\n",
       "    </tr>\n",
       "    <tr>\n",
       "      <th>STT</th>\n",
       "      <td>0.167920</td>\n",
       "    </tr>\n",
       "    <tr>\n",
       "      <th>STX</th>\n",
       "      <td>0.200000</td>\n",
       "    </tr>\n",
       "    <tr>\n",
       "      <th>SUN</th>\n",
       "      <td>0.208861</td>\n",
       "    </tr>\n",
       "    <tr>\n",
       "      <th>SWF</th>\n",
       "      <td>0.245902</td>\n",
       "    </tr>\n",
       "    <tr>\n",
       "      <th>SYR</th>\n",
       "      <td>0.172676</td>\n",
       "    </tr>\n",
       "    <tr>\n",
       "      <th>TLH</th>\n",
       "      <td>0.145078</td>\n",
       "    </tr>\n",
       "    <tr>\n",
       "      <th>TPA</th>\n",
       "      <td>0.196301</td>\n",
       "    </tr>\n",
       "    <tr>\n",
       "      <th>TRI</th>\n",
       "      <td>0.167568</td>\n",
       "    </tr>\n",
       "    <tr>\n",
       "      <th>TTN</th>\n",
       "      <td>0.193548</td>\n",
       "    </tr>\n",
       "    <tr>\n",
       "      <th>TUL</th>\n",
       "      <td>0.131356</td>\n",
       "    </tr>\n",
       "    <tr>\n",
       "      <th>TUS</th>\n",
       "      <td>0.175549</td>\n",
       "    </tr>\n",
       "    <tr>\n",
       "      <th>TVC</th>\n",
       "      <td>0.213450</td>\n",
       "    </tr>\n",
       "    <tr>\n",
       "      <th>TWF</th>\n",
       "      <td>0.033898</td>\n",
       "    </tr>\n",
       "    <tr>\n",
       "      <th>TXK</th>\n",
       "      <td>0.160000</td>\n",
       "    </tr>\n",
       "    <tr>\n",
       "      <th>TYS</th>\n",
       "      <td>0.189274</td>\n",
       "    </tr>\n",
       "    <tr>\n",
       "      <th>UST</th>\n",
       "      <td>0.166667</td>\n",
       "    </tr>\n",
       "    <tr>\n",
       "      <th>VLD</th>\n",
       "      <td>0.181818</td>\n",
       "    </tr>\n",
       "    <tr>\n",
       "      <th>VPS</th>\n",
       "      <td>0.202128</td>\n",
       "    </tr>\n",
       "    <tr>\n",
       "      <th>WRG</th>\n",
       "      <td>0.196721</td>\n",
       "    </tr>\n",
       "    <tr>\n",
       "      <th>WYS</th>\n",
       "      <td>0.122807</td>\n",
       "    </tr>\n",
       "    <tr>\n",
       "      <th>XNA</th>\n",
       "      <td>0.133333</td>\n",
       "    </tr>\n",
       "    <tr>\n",
       "      <th>YAK</th>\n",
       "      <td>0.210526</td>\n",
       "    </tr>\n",
       "    <tr>\n",
       "      <th>YUM</th>\n",
       "      <td>0.107143</td>\n",
       "    </tr>\n",
       "  </tbody>\n",
       "</table>\n",
       "<p>305 rows × 1 columns</p>\n",
       "</div>"
      ],
      "text/plain": [
       "        DepDel15\n",
       "Origin          \n",
       "ABE     0.239316\n",
       "ABI     0.222222\n",
       "ABQ     0.166667\n",
       "ABR     0.016129\n",
       "ABY     0.149425\n",
       "ACK     0.197279\n",
       "ACT     0.247706\n",
       "ACV     0.345133\n",
       "ACY     0.278107\n",
       "ADK     0.250000\n",
       "ADQ     0.068966\n",
       "AEX     0.240157\n",
       "AGS     0.229075\n",
       "AKN     0.166667\n",
       "ALB     0.167553\n",
       "AMA     0.104869\n",
       "ANC     0.107018\n",
       "APN     0.172414\n",
       "ASE     0.130000\n",
       "ATL     0.214023\n",
       "ATW     0.084337\n",
       "AUS     0.187546\n",
       "AVL     0.246914\n",
       "AVP     0.172619\n",
       "AZO     0.113772\n",
       "BDL     0.157674\n",
       "BET     0.024096\n",
       "BFL     0.115385\n",
       "BGM     0.148148\n",
       "BGR     0.229508\n",
       "...          ...\n",
       "SMF     0.169965\n",
       "SMX     0.354839\n",
       "SNA     0.170179\n",
       "SPI     0.238095\n",
       "SPS     0.176471\n",
       "SRQ     0.236453\n",
       "STL     0.200622\n",
       "STT     0.167920\n",
       "STX     0.200000\n",
       "SUN     0.208861\n",
       "SWF     0.245902\n",
       "SYR     0.172676\n",
       "TLH     0.145078\n",
       "TPA     0.196301\n",
       "TRI     0.167568\n",
       "TTN     0.193548\n",
       "TUL     0.131356\n",
       "TUS     0.175549\n",
       "TVC     0.213450\n",
       "TWF     0.033898\n",
       "TXK     0.160000\n",
       "TYS     0.189274\n",
       "UST     0.166667\n",
       "VLD     0.181818\n",
       "VPS     0.202128\n",
       "WRG     0.196721\n",
       "WYS     0.122807\n",
       "XNA     0.133333\n",
       "YAK     0.210526\n",
       "YUM     0.107143\n",
       "\n",
       "[305 rows x 1 columns]"
      ]
     },
     "execution_count": 91,
     "metadata": {},
     "output_type": "execute_result"
    }
   ],
   "source": [
    "df[['Origin', 'DepDel15']].groupby('Origin').mean()"
   ]
  },
  {
   "cell_type": "markdown",
   "metadata": {},
   "source": [
    "# How would you encode categorical data such a carrier, day of week and origin airport as numerical features?"
   ]
  },
  {
   "cell_type": "code",
   "execution_count": null,
   "metadata": {
    "collapsed": true
   },
   "outputs": [],
   "source": [
    "\n",
    "\n",
    "\n",
    "\n",
    "\n",
    "\n",
    "\n",
    "\n",
    "\n",
    "\n",
    "\n",
    "\n",
    "\n",
    "\n",
    "\n",
    "\n",
    "\n",
    "\n",
    "\n",
    "\n",
    "\n",
    "\n",
    "\n",
    "\n",
    "\n",
    "\n",
    "\n",
    "\n",
    "\n",
    "\n",
    "\n"
   ]
  },
  {
   "cell_type": "code",
   "execution_count": 90,
   "metadata": {
    "collapsed": false
   },
   "outputs": [],
   "source": [
    "# Percent of flights arriving within 15 minute of time by origin\n",
    "mean_dep_delay15 = df[['Origin', 'DepDel15']].groupby('Origin').mean()"
   ]
  },
  {
   "cell_type": "code",
   "execution_count": 17,
   "metadata": {
    "collapsed": false
   },
   "outputs": [
    {
     "data": {
      "text/plain": [
       "305"
      ]
     },
     "execution_count": 17,
     "metadata": {},
     "output_type": "execute_result"
    }
   ],
   "source": [
    "len(set(df.Origin))"
   ]
  },
  {
   "cell_type": "code",
   "execution_count": 23,
   "metadata": {
    "collapsed": true
   },
   "outputs": [],
   "source": [
    "for x in df.Origin:\n",
    "    break"
   ]
  },
  {
   "cell_type": "code",
   "execution_count": 26,
   "metadata": {
    "collapsed": true
   },
   "outputs": [],
   "source": [
    "import numpy as np"
   ]
  },
  {
   "cell_type": "markdown",
   "metadata": {},
   "source": [
    "* Features:\n",
    "    * Origin group\n",
    "    * UniqueCarrier one hot encoding\n",
    "    * Day of week one hot encoding\n",
    "    * Time of day bucket\n",
    "    \n",
    "* Objective function:\n",
    "    * DepDelay15 (Whether or not the flight will be delayed by 15 minutes or more"
   ]
  },
  {
   "cell_type": "markdown",
   "metadata": {},
   "source": [
    "Origin Groups\n",
    "-------------"
   ]
  },
  {
   "cell_type": "code",
   "execution_count": 210,
   "metadata": {
    "collapsed": false
   },
   "outputs": [],
   "source": [
    "match = [x==y for (x,y) in zip((df.DepDelayMinutes >= 15), df.DepDel15)]"
   ]
  },
  {
   "cell_type": "code",
   "execution_count": 67,
   "metadata": {
    "collapsed": false
   },
   "outputs": [],
   "source": [
    "quantiles = [0] + list(np.percentile(mean_dep_delay15, [20,40,60,80])) + [1.1]"
   ]
  },
  {
   "cell_type": "code",
   "execution_count": 68,
   "metadata": {
    "collapsed": false
   },
   "outputs": [
    {
     "data": {
      "text/plain": [
       "[0,\n",
       " 0.12664473684210528,\n",
       " 0.15826476743747647,\n",
       " 0.18312887862606436,\n",
       " 0.2180524418922776,\n",
       " 1.1]"
      ]
     },
     "execution_count": 68,
     "metadata": {},
     "output_type": "execute_result"
    }
   ],
   "source": [
    "quantiles"
   ]
  },
  {
   "cell_type": "code",
   "execution_count": 93,
   "metadata": {
    "collapsed": true
   },
   "outputs": [],
   "source": [
    "origin_groups = []\n",
    "for (low, high) in list(zip(quantiles, quantiles[1:])):\n",
    "    origin_groups.append(\n",
    "        set(mean_dep_delay15[(mean_dep_delay15 >= low) & (mean_dep_delay15 < high)].dropna().index)\n",
    "    )"
   ]
  },
  {
   "cell_type": "code",
   "execution_count": 94,
   "metadata": {
    "collapsed": false
   },
   "outputs": [
    {
     "data": {
      "text/plain": [
       "[61, 61, 61, 61, 61]"
      ]
     },
     "execution_count": 94,
     "metadata": {},
     "output_type": "execute_result"
    }
   ],
   "source": [
    "[len(x) for x in origin_groups]"
   ]
  },
  {
   "cell_type": "code",
   "execution_count": 76,
   "metadata": {
    "collapsed": false
   },
   "outputs": [],
   "source": [
    "for i, group in enumerate(origin_groups):\n",
    "    df['OriginGroup%s' % i] = [int(o in group) for o in df.Origin]"
   ]
  },
  {
   "cell_type": "markdown",
   "metadata": {},
   "source": []
  },
  {
   "cell_type": "markdown",
   "metadata": {},
   "source": [
    "Unique Carrier One-Hot Feature\n",
    "------------------------"
   ]
  },
  {
   "cell_type": "code",
   "execution_count": 87,
   "metadata": {
    "collapsed": false
   },
   "outputs": [],
   "source": [
    "unique_carriers = list(set(df.UniqueCarrier))\n",
    "for carrier in unique_carriers:\n",
    "    df['Carrier%s' % carrier]  = [int(x == carrier) for x in df.UniqueCarrier]"
   ]
  },
  {
   "cell_type": "markdown",
   "metadata": {},
   "source": [
    "Day Of Week One-Hot Feature\n",
    "------------------------"
   ]
  },
  {
   "cell_type": "code",
   "execution_count": 97,
   "metadata": {
    "collapsed": true
   },
   "outputs": [],
   "source": [
    "days_of_week = sorted(list(set(df.DayOfWeek)))\n",
    "for dow in days_of_week:\n",
    "    df['DayOfWeek%s' % dow]  = [int(x == dow) for x in df.DayOfWeek]"
   ]
  },
  {
   "cell_type": "code",
   "execution_count": null,
   "metadata": {
    "collapsed": true
   },
   "outputs": [],
   "source": []
  },
  {
   "cell_type": "markdown",
   "metadata": {},
   "source": [
    "Time of Day Bucket Feature:\n",
    "-----------------"
   ]
  },
  {
   "cell_type": "code",
   "execution_count": 297,
   "metadata": {
    "collapsed": false
   },
   "outputs": [
    {
     "data": {
      "text/plain": [
       "<matplotlib.collections.PathCollection at 0x115117cf8>"
      ]
     },
     "execution_count": 297,
     "metadata": {},
     "output_type": "execute_result"
    },
    {
     "data": {
      "image/png": "[encoded data removed]",
      "text/plain": [
       "<matplotlib.figure.Figure at 0x11501add8>"
      ]
     },
     "metadata": {},
     "output_type": "display_data"
    }
   ],
   "source": [
    "clean_df = df[['DepTime', 'DepDelayMinutes']].dropna()\n",
    "\n",
    "plt.scatter(x=clean_df.DepTime.iloc[:5000], y = clean_df.DepDelayMinutes.iloc[:5000])"
   ]
  },
  {
   "cell_type": "code",
   "execution_count": 99,
   "metadata": {
    "collapsed": true
   },
   "outputs": [],
   "source": [
    "thresholds = [-1, 400, 800, 1200, 1600, 2000, 2401]"
   ]
  },
  {
   "cell_type": "code",
   "execution_count": 110,
   "metadata": {
    "collapsed": false
   },
   "outputs": [],
   "source": [
    "buckets = []\n",
    "for i, (min_time, max_time) in enumerate(list(zip(thresholds, thresholds[1:]))):\n",
    "    df[\"DepTimeBucket%s\" % i] = ((df.DepTime >= min_time) & (df.DepTime < max_time)).astype(int)"
   ]
  },
  {
   "cell_type": "code",
   "execution_count": 122,
   "metadata": {
    "collapsed": true
   },
   "outputs": [],
   "source": [
    "features = (['OriginGroup%s' % i for i in range(5)] +\n",
    "            ['Carrier%s' % carrier for carrier in unique_carriers] +\n",
    "            ['DayOfWeek%s' % dow for dow in days_of_week] + \n",
    "            ['DepTimeBucket%s' % i for i in range(6)]\n",
    "           )"
   ]
  },
  {
   "cell_type": "code",
   "execution_count": 214,
   "metadata": {
    "collapsed": true
   },
   "outputs": [],
   "source": [
    "from sklearn.linear_model import LogisticRegression, LinearRegression"
   ]
  },
  {
   "cell_type": "code",
   "execution_count": 252,
   "metadata": {
    "collapsed": true
   },
   "outputs": [],
   "source": [
    "model = LogisticRegression()"
   ]
  },
  {
   "cell_type": "code",
   "execution_count": 253,
   "metadata": {
    "collapsed": true
   },
   "outputs": [],
   "source": [
    "clean_df = df[features + ['DepDelayMinutes']].dropna()"
   ]
  },
  {
   "cell_type": "code",
   "execution_count": 264,
   "metadata": {
    "collapsed": true
   },
   "outputs": [],
   "source": [
    "clean_df['Delayed'] = [int(x >= 15) for x in clean_df.DepDelayMinutes]"
   ]
  },
  {
   "cell_type": "code",
   "execution_count": 265,
   "metadata": {
    "collapsed": true
   },
   "outputs": [],
   "source": [
    "train_size = int(len(clean_df) * 0.7)"
   ]
  },
  {
   "cell_type": "code",
   "execution_count": 266,
   "metadata": {
    "collapsed": false
   },
   "outputs": [
    {
     "data": {
      "text/plain": [
       "LogisticRegression(C=1.0, class_weight=None, dual=False, fit_intercept=True,\n",
       "          intercept_scaling=1, max_iter=100, multi_class='ovr', n_jobs=1,\n",
       "          penalty='l2', random_state=None, solver='liblinear', tol=0.0001,\n",
       "          verbose=0, warm_start=False)"
      ]
     },
     "execution_count": 266,
     "metadata": {},
     "output_type": "execute_result"
    }
   ],
   "source": [
    "model.fit(clean_df[features].iloc[:train_size], clean_df.Delayed.iloc[:train_size])"
   ]
  },
  {
   "cell_type": "code",
   "execution_count": 267,
   "metadata": {
    "collapsed": true
   },
   "outputs": [],
   "source": [
    "predictions = model.predict(clean_df[features].iloc[train_size:])"
   ]
  },
  {
   "cell_type": "code",
   "execution_count": 268,
   "metadata": {
    "collapsed": false
   },
   "outputs": [],
   "source": [
    "actuals = clean_df.Delayed.iloc[train_size:]"
   ]
  },
  {
   "cell_type": "code",
   "execution_count": 299,
   "metadata": {
    "collapsed": false
   },
   "outputs": [
    {
     "data": {
      "text/plain": [
       "[{'ABR',\n",
       "  'ADQ',\n",
       "  'AMA',\n",
       "  'ANC',\n",
       "  'ATW',\n",
       "  'AZO',\n",
       "  'BET',\n",
       "  'BFL',\n",
       "  'BIL',\n",
       "  'BIS',\n",
       "  'BRW',\n",
       "  'BTM',\n",
       "  'BZN',\n",
       "  'CDC',\n",
       "  'CIU',\n",
       "  'CPR',\n",
       "  'DLG',\n",
       "  'DVL',\n",
       "  'EFD',\n",
       "  'EKO',\n",
       "  'EWN',\n",
       "  'FCA',\n",
       "  'FNT',\n",
       "  'FSD',\n",
       "  'GCC',\n",
       "  'GEG',\n",
       "  'GFK',\n",
       "  'GJT',\n",
       "  'GTF',\n",
       "  'HDN',\n",
       "  'HLN',\n",
       "  'HNL',\n",
       "  'HRL',\n",
       "  'HYS',\n",
       "  'IDA',\n",
       "  'INL',\n",
       "  'ISN',\n",
       "  'ITH',\n",
       "  'ITO',\n",
       "  'JMS',\n",
       "  'JNU',\n",
       "  'KOA',\n",
       "  'KTN',\n",
       "  'LCH',\n",
       "  'LIH',\n",
       "  'LSE',\n",
       "  'LWS',\n",
       "  'MOT',\n",
       "  'MQT',\n",
       "  'MSO',\n",
       "  'OGG',\n",
       "  'PIH',\n",
       "  'PLN',\n",
       "  'PPG',\n",
       "  'RKS',\n",
       "  'SCC',\n",
       "  'SGU',\n",
       "  'SIT',\n",
       "  'TWF',\n",
       "  'WYS',\n",
       "  'YUM'},\n",
       " {'ABY',\n",
       "  'ASE',\n",
       "  'BDL',\n",
       "  'BGM',\n",
       "  'BMI',\n",
       "  'BOI',\n",
       "  'BQK',\n",
       "  'BRD',\n",
       "  'BRO',\n",
       "  'BUF',\n",
       "  'CHA',\n",
       "  'COD',\n",
       "  'CRP',\n",
       "  'CWA',\n",
       "  'DAY',\n",
       "  'DSM',\n",
       "  'ECP',\n",
       "  'EGE',\n",
       "  'ERI',\n",
       "  'EUG',\n",
       "  'EYW',\n",
       "  'FAR',\n",
       "  'FWA',\n",
       "  'GNV',\n",
       "  'GRB',\n",
       "  'GRK',\n",
       "  'GRR',\n",
       "  'GST',\n",
       "  'GUC',\n",
       "  'ILM',\n",
       "  'JAC',\n",
       "  'LAN',\n",
       "  'LAR',\n",
       "  'LBB',\n",
       "  'LNK',\n",
       "  'MAF',\n",
       "  'MCI',\n",
       "  'MHT',\n",
       "  'MKE',\n",
       "  'MLB',\n",
       "  'MRY',\n",
       "  'MTJ',\n",
       "  'OKC',\n",
       "  'OMA',\n",
       "  'OTZ',\n",
       "  'PDX',\n",
       "  'PHF',\n",
       "  'PIT',\n",
       "  'PSC',\n",
       "  'PSE',\n",
       "  'RHI',\n",
       "  'ROW',\n",
       "  'RST',\n",
       "  'SBP',\n",
       "  'SDF',\n",
       "  'SGF',\n",
       "  'SJC',\n",
       "  'SLC',\n",
       "  'TLH',\n",
       "  'TUL',\n",
       "  'XNA'},\n",
       " {'ABQ',\n",
       "  'AKN',\n",
       "  'ALB',\n",
       "  'APN',\n",
       "  'AVP',\n",
       "  'BHM',\n",
       "  'BJI',\n",
       "  'BUR',\n",
       "  'CAK',\n",
       "  'CMH',\n",
       "  'DCA',\n",
       "  'DRO',\n",
       "  'ELP',\n",
       "  'FAI',\n",
       "  'FAT',\n",
       "  'FLG',\n",
       "  'FSM',\n",
       "  'GPT',\n",
       "  'GSP',\n",
       "  'HIB',\n",
       "  'HSV',\n",
       "  'IAD',\n",
       "  'ICT',\n",
       "  'IMT',\n",
       "  'IND',\n",
       "  'ISP',\n",
       "  'JAN',\n",
       "  'JAX',\n",
       "  'LGB',\n",
       "  'LIT',\n",
       "  'MBS',\n",
       "  'MEM',\n",
       "  'MLU',\n",
       "  'MSN',\n",
       "  'MSY',\n",
       "  'OAK',\n",
       "  'OME',\n",
       "  'ONT',\n",
       "  'PAH',\n",
       "  'PIA',\n",
       "  'PNS',\n",
       "  'PSG',\n",
       "  'PVD',\n",
       "  'PWM',\n",
       "  'RAP',\n",
       "  'RNO',\n",
       "  'ROC',\n",
       "  'RSW',\n",
       "  'SAN',\n",
       "  'SAT',\n",
       "  'SEA',\n",
       "  'SMF',\n",
       "  'SNA',\n",
       "  'SPS',\n",
       "  'STT',\n",
       "  'SYR',\n",
       "  'TRI',\n",
       "  'TUS',\n",
       "  'TXK',\n",
       "  'UST',\n",
       "  'VLD'},\n",
       " {'ACK',\n",
       "  'ATL',\n",
       "  'AUS',\n",
       "  'BNA',\n",
       "  'BOS',\n",
       "  'BTR',\n",
       "  'BWI',\n",
       "  'CAE',\n",
       "  'CHS',\n",
       "  'CID',\n",
       "  'CLE',\n",
       "  'CLL',\n",
       "  'CMX',\n",
       "  'COS',\n",
       "  'CRW',\n",
       "  'CSG',\n",
       "  'CVG',\n",
       "  'DAB',\n",
       "  'DTW',\n",
       "  'EVV',\n",
       "  'FAY',\n",
       "  'GCK',\n",
       "  'GSO',\n",
       "  'GTR',\n",
       "  'HOB',\n",
       "  'HOU',\n",
       "  'HYA',\n",
       "  'IAH',\n",
       "  'LEX',\n",
       "  'LFT',\n",
       "  'LRD',\n",
       "  'MDW',\n",
       "  'MFE',\n",
       "  'MFR',\n",
       "  'MGM',\n",
       "  'MLI',\n",
       "  'MOB',\n",
       "  'MSP',\n",
       "  'OAJ',\n",
       "  'ORF',\n",
       "  'PBI',\n",
       "  'PHL',\n",
       "  'PHX',\n",
       "  'PIB',\n",
       "  'PSP',\n",
       "  'RDU',\n",
       "  'RIC',\n",
       "  'ROA',\n",
       "  'SBA',\n",
       "  'SBN',\n",
       "  'SHV',\n",
       "  'STL',\n",
       "  'STX',\n",
       "  'SUN',\n",
       "  'TPA',\n",
       "  'TTN',\n",
       "  'TVC',\n",
       "  'TYS',\n",
       "  'VPS',\n",
       "  'WRG',\n",
       "  'YAK'},\n",
       " {'ABE',\n",
       "  'ABI',\n",
       "  'ACT',\n",
       "  'ACV',\n",
       "  'ACY',\n",
       "  'ADK',\n",
       "  'AEX',\n",
       "  'AGS',\n",
       "  'AVL',\n",
       "  'BGR',\n",
       "  'BPT',\n",
       "  'BQN',\n",
       "  'BTV',\n",
       "  'CDV',\n",
       "  'CHO',\n",
       "  'CLT',\n",
       "  'DAL',\n",
       "  'DEN',\n",
       "  'DFW',\n",
       "  'DHN',\n",
       "  'DLH',\n",
       "  'EAU',\n",
       "  'ELM',\n",
       "  'ESC',\n",
       "  'EWR',\n",
       "  'FLL',\n",
       "  'GGG',\n",
       "  'GRI',\n",
       "  'GUM',\n",
       "  'HPN',\n",
       "  'IAG',\n",
       "  'JFK',\n",
       "  'JLN',\n",
       "  'LAS',\n",
       "  'LAW',\n",
       "  'LAX',\n",
       "  'LBE',\n",
       "  'LGA',\n",
       "  'MCO',\n",
       "  'MDT',\n",
       "  'MEI',\n",
       "  'MIA',\n",
       "  'MKG',\n",
       "  'MVY',\n",
       "  'MYR',\n",
       "  'ORD',\n",
       "  'ORH',\n",
       "  'OTH',\n",
       "  'PBG',\n",
       "  'RDD',\n",
       "  'RDM',\n",
       "  'SAF',\n",
       "  'SAV',\n",
       "  'SCE',\n",
       "  'SFO',\n",
       "  'SJT',\n",
       "  'SJU',\n",
       "  'SMX',\n",
       "  'SPI',\n",
       "  'SRQ',\n",
       "  'SWF'}]"
      ]
     },
     "execution_count": 299,
     "metadata": {},
     "output_type": "execute_result"
    }
   ],
   "source": [
    "origin_groups"
   ]
  },
  {
   "cell_type": "code",
   "execution_count": null,
   "metadata": {
    "collapsed": true
   },
   "outputs": [],
   "source": []
  },
  {
   "cell_type": "code",
   "execution_count": 275,
   "metadata": {
    "collapsed": true
   },
   "outputs": [],
   "source": [
    "from sklearn.metrics import roc_curve, auc"
   ]
  },
  {
   "cell_type": "code",
   "execution_count": 276,
   "metadata": {
    "collapsed": true
   },
   "outputs": [],
   "source": [
    "predict_probs = [tpl[1] for tpl in model.predict_proba(clean_df[features].iloc[train_size:])]"
   ]
  },
  {
   "cell_type": "code",
   "execution_count": 277,
   "metadata": {
    "collapsed": false
   },
   "outputs": [],
   "source": [
    "# Compute micro-average ROC curve and ROC area\n",
    "fpr, tpr, _ = roc_curve(actuals, predict_probs)\n"
   ]
  },
  {
   "cell_type": "code",
   "execution_count": 278,
   "metadata": {
    "collapsed": true
   },
   "outputs": [],
   "source": [
    "import matplotlib.pyplot as plt"
   ]
  },
  {
   "cell_type": "code",
   "execution_count": null,
   "metadata": {
    "collapsed": true
   },
   "outputs": [],
   "source": []
  },
  {
   "cell_type": "code",
   "execution_count": 279,
   "metadata": {
    "collapsed": false
   },
   "outputs": [
    {
     "name": "stderr",
     "output_type": "stream",
     "text": [
      "/Users/kevin/anaconda/envs/calhacks/lib/python3.5/site-packages/matplotlib/axes/_axes.py:531: UserWarning: No labelled objects found. Use label='...' kwarg on individual plots.\n",
      "  warnings.warn(\"No labelled objects found. \"\n"
     ]
    },
    {
     "data": {
      "image/png": "[encoded data removed]",
      "text/plain": [
       "<matplotlib.figure.Figure at 0x1226ea128>"
      ]
     },
     "metadata": {},
     "output_type": "display_data"
    }
   ],
   "source": [
    "#Plot of a ROC curve for a specific class\n",
    "plt.figure()\n",
    "lw = 2\n",
    "plt.plot(fpr, tpr, color='darkorange',\n",
    "         lw=lw)\n",
    "plt.plot([0, 1], [0, 1], color='navy', lw=lw, linestyle='--')\n",
    "plt.xlim([0.0, 1.0])\n",
    "plt.ylim([0.0, 1.05])\n",
    "plt.xlabel('False Positive Rate')\n",
    "plt.ylabel('True Positive Rate')\n",
    "plt.title('Receiver operating characteristic example')\n",
    "plt.legend(loc=\"lower right\")\n",
    "plt.show()"
   ]
  },
  {
   "cell_type": "code",
   "execution_count": 292,
   "metadata": {
    "collapsed": false
   },
   "outputs": [],
   "source": []
  },
  {
   "cell_type": "code",
   "execution_count": 280,
   "metadata": {
    "collapsed": false
   },
   "outputs": [
    {
     "data": {
      "text/plain": [
       "0.68482183879917058"
      ]
     },
     "execution_count": 280,
     "metadata": {},
     "output_type": "execute_result"
    }
   ],
   "source": [
    "auc(fpr, tpr)"
   ]
  },
  {
   "cell_type": "code",
   "execution_count": 281,
   "metadata": {
    "collapsed": false
   },
   "outputs": [
    {
     "data": {
      "text/plain": [
       "array([-0.88227567])"
      ]
     },
     "execution_count": 281,
     "metadata": {},
     "output_type": "execute_result"
    }
   ],
   "source": [
    "model.intercept_"
   ]
  },
  {
   "cell_type": "code",
   "execution_count": 282,
   "metadata": {
    "collapsed": false
   },
   "outputs": [],
   "source": [
    "coefs = dict(list(zip(features, model.coef_[0])))"
   ]
  },
  {
   "cell_type": "code",
   "execution_count": null,
   "metadata": {
    "collapsed": true
   },
   "outputs": [],
   "source": []
  },
  {
   "cell_type": "code",
   "execution_count": 283,
   "metadata": {
    "collapsed": false
   },
   "outputs": [
    {
     "data": {
      "text/plain": [
       "{'CarrierAA': -0.0019204985425103213,\n",
       " 'CarrierAS': -0.84841944514035605,\n",
       " 'CarrierB6': 0.12241821143901417,\n",
       " 'CarrierDL': -0.13261989508615579,\n",
       " 'CarrierEV': -0.010973177444743456,\n",
       " 'CarrierF9': 0.0,\n",
       " 'CarrierHA': 0.0,\n",
       " 'CarrierNK': 0.0,\n",
       " 'CarrierOO': -0.023123225427465505,\n",
       " 'CarrierUA': 0.16964701242785432,\n",
       " 'CarrierVX': -0.053647076481738616,\n",
       " 'CarrierWN': -0.10363757129666461,\n",
       " 'DayOfWeek1': 0.063727159827779406,\n",
       " 'DayOfWeek2': -0.1853191855446592,\n",
       " 'DayOfWeek3': -0.30014428231028273,\n",
       " 'DayOfWeek4': -0.094916176670324648,\n",
       " 'DayOfWeek5': -0.062572400878981818,\n",
       " 'DayOfWeek6': -0.084710367475524101,\n",
       " 'DayOfWeek7': -0.21834041248771782,\n",
       " 'DepTimeBucket0': 1.3627774299145421,\n",
       " 'DepTimeBucket1': -1.9928496577654837,\n",
       " 'DepTimeBucket2': -0.82127521506520362,\n",
       " 'DepTimeBucket3': -0.27652436329447116,\n",
       " 'DepTimeBucket4': 0.17856868964922734,\n",
       " 'DepTimeBucket5': 0.66702745101136107,\n",
       " 'OriginGroup0': -0.67761214167229855,\n",
       " 'OriginGroup1': -0.25382448266698804,\n",
       " 'OriginGroup2': -0.11041084237121421,\n",
       " 'OriginGroup3': -0.067072611283875219,\n",
       " 'OriginGroup4': 0.22664441244453568}"
      ]
     },
     "execution_count": 283,
     "metadata": {},
     "output_type": "execute_result"
    }
   ],
   "source": [
    "coefs"
   ]
  }
 ],
 "metadata": {
  "kernelspec": {
   "display_name": "Python 3",
   "language": "python",
   "name": "python3"
  },
  "language_info": {
   "codemirror_mode": {
    "name": "ipython",
    "version": 3
   },
   "file_extension": ".py",
   "mimetype": "text/x-python",
   "name": "python",
   "nbconvert_exporter": "python",
   "pygments_lexer": "ipython3",
   "version": "3.5.0"
  }
 },
 "nbformat": 4,
 "nbformat_minor": 1
}
